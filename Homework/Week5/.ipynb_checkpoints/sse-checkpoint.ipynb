{
 "cells": [
  {
   "cell_type": "code",
   "execution_count": 1,
   "metadata": {},
   "outputs": [],
   "source": [
    "from matplotlib import pyplot as plt\n",
    "import pandas as pd\n",
    "import numpy as np\n",
    "from sse import loss"
   ]
  },
  {
   "cell_type": "code",
   "execution_count": 2,
   "metadata": {},
   "outputs": [],
   "source": [
    "from sklearn.datasets import make_regression\n",
    "rx, ry = make_regression(\n",
    "    n_samples=100,\n",
    "    n_features=1,\n",
    "    noise=1,\n",
    "    bias=1\n",
    ")"
   ]
  },
  {
   "cell_type": "code",
   "execution_count": 3,
   "metadata": {
    "scrolled": false
   },
   "outputs": [
    {
     "data": {
      "text/plain": [
       "[<matplotlib.lines.Line2D at 0x2c362d7d240>]"
      ]
     },
     "execution_count": 3,
     "metadata": {},
     "output_type": "execute_result"
    },
    {
     "data": {
      "image/png": "[encoded data removed]",
      "text/plain": [
       "<Figure size 432x288 with 1 Axes>"
      ]
     },
     "metadata": {
      "needs_background": "light"
     },
     "output_type": "display_data"
    }
   ],
   "source": [
    "plt.grid()\n",
    "plt.scatter(rx, ry)\n",
    "x = np.linspace(-3,3,100)\n",
    "w=[0,14]\n",
    "y = w[0] + x * w[1]\n",
    "plt.plot(x, y, '-r', label=f'y={w[1]}x+{w[0]}')"
   ]
  },
  {
   "cell_type": "code",
   "execution_count": 4,
   "metadata": {},
   "outputs": [
    {
     "data": {
      "text/plain": [
       "610184.822201659"
      ]
     },
     "execution_count": 4,
     "metadata": {},
     "output_type": "execute_result"
    }
   ],
   "source": [
    "loss(rx, ry, w)"
   ]
  },
  {
   "cell_type": "code",
   "execution_count": 5,
   "metadata": {},
   "outputs": [],
   "source": [
    "errors=[]\n",
    "samples = np.linspace(5,50, 1000)\n",
    "for n in samples:\n",
    "    errors.append(loss(rx, ry, [0, n]))\n",
    "errors=pd.Series(errors)"
   ]
  },
  {
   "cell_type": "code",
   "execution_count": 6,
   "metadata": {},
   "outputs": [
    {
     "data": {
      "text/plain": [
       "0      751816.213463\n",
       "1      751070.567113\n",
       "2      750325.290788\n",
       "3      749580.384488\n",
       "4      748835.848214\n",
       "5      748091.681965\n",
       "6      747347.885741\n",
       "7      746604.459543\n",
       "8      745861.403371\n",
       "9      745118.717224\n",
       "10     744376.401102\n",
       "11     743634.455006\n",
       "12     742892.878935\n",
       "13     742151.672890\n",
       "14     741410.836870\n",
       "15     740670.370876\n",
       "16     739930.274907\n",
       "17     739190.548963\n",
       "18     738451.193045\n",
       "19     737712.207152\n",
       "20     736973.591285\n",
       "21     736235.345443\n",
       "22     735497.469627\n",
       "23     734759.963836\n",
       "24     734022.828070\n",
       "25     733286.062330\n",
       "26     732549.666615\n",
       "27     731813.640926\n",
       "28     731077.985262\n",
       "29     730342.699624\n",
       "           ...      \n",
       "970    202438.257946\n",
       "971    202051.536269\n",
       "972    201665.184618\n",
       "973    201279.202992\n",
       "974    200893.591392\n",
       "975    200508.349817\n",
       "976    200123.478268\n",
       "977    199738.976744\n",
       "978    199354.845245\n",
       "979    198971.083772\n",
       "980    198587.692325\n",
       "981    198204.670902\n",
       "982    197822.019506\n",
       "983    197439.738134\n",
       "984    197057.826788\n",
       "985    196676.285468\n",
       "986    196295.114173\n",
       "987    195914.312903\n",
       "988    195533.881659\n",
       "989    195153.820440\n",
       "990    194774.129247\n",
       "991    194394.808079\n",
       "992    194015.856937\n",
       "993    193637.275820\n",
       "994    193259.064728\n",
       "995    192881.223662\n",
       "996    192503.752621\n",
       "997    192126.651606\n",
       "998    191749.920616\n",
       "999    191373.559652\n",
       "Length: 1000, dtype: float64"
      ]
     },
     "execution_count": 6,
     "metadata": {},
     "output_type": "execute_result"
    }
   ],
   "source": [
    "errors"
   ]
  },
  {
   "cell_type": "code",
   "execution_count": 7,
   "metadata": {},
   "outputs": [
    {
     "data": {
      "text/plain": [
       "(1000,)"
      ]
     },
     "execution_count": 7,
     "metadata": {},
     "output_type": "execute_result"
    }
   ],
   "source": [
    "errors.shape"
   ]
  },
  {
   "cell_type": "code",
   "execution_count": 8,
   "metadata": {},
   "outputs": [
    {
     "data": {
      "text/plain": [
       "[<matplotlib.lines.Line2D at 0x2c362e41518>]"
      ]
     },
     "execution_count": 8,
     "metadata": {},
     "output_type": "execute_result"
    },
    {
     "data": {
      "image/png": "[encoded data removed]",
      "text/plain": [
       "<Figure size 432x288 with 1 Axes>"
      ]
     },
     "metadata": {
      "needs_background": "light"
     },
     "output_type": "display_data"
    }
   ],
   "source": [
    "plt.plot(samples, errors)"
   ]
  },
  {
   "cell_type": "markdown",
   "metadata": {},
   "source": [
    "## Plot the error function for w[0]"
   ]
  },
  {
   "cell_type": "code",
   "execution_count": null,
   "metadata": {},
   "outputs": [],
   "source": []
  },
  {
   "cell_type": "code",
   "execution_count": null,
   "metadata": {},
   "outputs": [],
   "source": []
  }
 ],
 "metadata": {
  "kernelspec": {
   "display_name": "Python 3",
   "language": "python",
   "name": "python3"
  },
  "language_info": {
   "codemirror_mode": {
    "name": "ipython",
    "version": 3
   },
   "file_extension": ".py",
   "mimetype": "text/x-python",
   "name": "python",
   "nbconvert_exporter": "python",
   "pygments_lexer": "ipython3",
   "version": "3.7.3"
  }
 },
 "nbformat": 4,
 "nbformat_minor": 2
}
