{
 "cells": [
  {
   "cell_type": "code",
   "execution_count": 1,
   "metadata": {},
   "outputs": [],
   "source": [
    "from matplotlib import pyplot as plt\n",
    "import pandas as pd\n",
    "import numpy as np\n",
    "from sse import loss"
   ]
  },
  {
   "cell_type": "code",
   "execution_count": 2,
   "metadata": {},
   "outputs": [],
   "source": [
    "from sklearn.datasets import make_regression\n",
    "rx, ry = make_regression(\n",
    "    n_samples=100,\n",
    "    n_features=1,\n",
    "    noise=1,\n",
    "    bias=1\n",
    ")"
   ]
  },
  {
   "cell_type": "code",
   "execution_count": 3,
   "metadata": {
    "scrolled": false
   },
   "outputs": [
    {
     "data": {
      "text/plain": [
       "[<matplotlib.lines.Line2D at 0x2402413d2b0>]"
      ]
     },
     "execution_count": 3,
     "metadata": {},
     "output_type": "execute_result"
    },
    {
     "data": {
      "image/png": "[encoded data removed]",
      "text/plain": [
       "<Figure size 432x288 with 1 Axes>"
      ]
     },
     "metadata": {
      "needs_background": "light"
     },
     "output_type": "display_data"
    }
   ],
   "source": [
    "plt.grid()\n",
    "plt.scatter(rx, ry)\n",
    "x = np.linspace(-3,3,100)\n",
    "w=[0,14]\n",
    "y = w[0] + x * w[1]\n",
    "plt.plot(x, y, '-r', label=f'y={w[1]}x+{w[0]}')"
   ]
  },
  {
   "cell_type": "code",
   "execution_count": 4,
   "metadata": {},
   "outputs": [
    {
     "data": {
      "text/plain": [
       "452076.6811942537"
      ]
     },
     "execution_count": 4,
     "metadata": {},
     "output_type": "execute_result"
    }
   ],
   "source": [
    "loss(rx, ry, w)"
   ]
  },
  {
   "cell_type": "code",
   "execution_count": 5,
   "metadata": {},
   "outputs": [],
   "source": [
    "errors=[]\n",
    "samples = np.linspace(5,25, 1000)\n",
    "for n in samples:\n",
    "    errors.append(loss(rx, ry, [0, n]))\n",
    "errors=pd.Series(errors)"
   ]
  },
  {
   "cell_type": "code",
   "execution_count": 6,
   "metadata": {},
   "outputs": [
    {
     "data": {
      "text/plain": [
       "0      595515.335718\n",
       "1      595174.357755\n",
       "2      594833.477468\n",
       "3      594492.694857\n",
       "4      594152.009922\n",
       "5      593811.422664\n",
       "6      593470.933082\n",
       "7      593130.541176\n",
       "8      592790.246946\n",
       "9      592450.050392\n",
       "10     592109.951515\n",
       "11     591769.950313\n",
       "12     591430.046788\n",
       "13     591090.240939\n",
       "14     590750.532767\n",
       "15     590410.922270\n",
       "16     590071.409450\n",
       "17     589731.994305\n",
       "18     589392.676837\n",
       "19     589053.457045\n",
       "20     588714.334930\n",
       "21     588375.310490\n",
       "22     588036.383727\n",
       "23     587697.554640\n",
       "24     587358.823229\n",
       "25     587020.189494\n",
       "26     586681.653436\n",
       "27     586343.215053\n",
       "28     586004.874347\n",
       "29     585666.631317\n",
       "           ...      \n",
       "970    310671.098718\n",
       "971    310424.866653\n",
       "972    310178.732263\n",
       "973    309932.695549\n",
       "974    309686.756512\n",
       "975    309440.915151\n",
       "976    309195.171466\n",
       "977    308949.525457\n",
       "978    308703.977125\n",
       "979    308458.526468\n",
       "980    308213.173488\n",
       "981    307967.918184\n",
       "982    307722.760556\n",
       "983    307477.700605\n",
       "984    307232.738329\n",
       "985    306987.873730\n",
       "986    306743.106807\n",
       "987    306498.437560\n",
       "988    306253.865989\n",
       "989    306009.392095\n",
       "990    305765.015877\n",
       "991    305520.737334\n",
       "992    305276.556468\n",
       "993    305032.473279\n",
       "994    304788.487765\n",
       "995    304544.599927\n",
       "996    304300.809766\n",
       "997    304057.117281\n",
       "998    303813.522472\n",
       "999    303570.025340\n",
       "Length: 1000, dtype: float64"
      ]
     },
     "execution_count": 6,
     "metadata": {},
     "output_type": "execute_result"
    }
   ],
   "source": [
    "errors"
   ]
  },
  {
   "cell_type": "code",
   "execution_count": 7,
   "metadata": {},
   "outputs": [
    {
     "data": {
      "text/plain": [
       "(1000,)"
      ]
     },
     "execution_count": 7,
     "metadata": {},
     "output_type": "execute_result"
    }
   ],
   "source": [
    "errors.shape"
   ]
  },
  {
   "cell_type": "code",
   "execution_count": 8,
   "metadata": {},
   "outputs": [
    {
     "data": {
      "text/plain": [
       "[<matplotlib.lines.Line2D at 0x240241f6a20>]"
      ]
     },
     "execution_count": 8,
     "metadata": {},
     "output_type": "execute_result"
    },
    {
     "data": {
      "image/png": "[encoded data removed]",
      "text/plain": [
       "<Figure size 432x288 with 1 Axes>"
      ]
     },
     "metadata": {
      "needs_background": "light"
     },
     "output_type": "display_data"
    }
   ],
   "source": [
    "plt.plot(samples, errors)"
   ]
  },
  {
   "cell_type": "code",
   "execution_count": null,
   "metadata": {},
   "outputs": [],
   "source": []
  },
  {
   "cell_type": "code",
   "execution_count": null,
   "metadata": {},
   "outputs": [],
   "source": []
  },
  {
   "cell_type": "code",
   "execution_count": null,
   "metadata": {},
   "outputs": [],
   "source": []
  }
 ],
 "metadata": {
  "kernelspec": {
   "display_name": "Python 3",
   "language": "python",
   "name": "python3"
  },
  "language_info": {
   "codemirror_mode": {
    "name": "ipython",
    "version": 3
   },
   "file_extension": ".py",
   "mimetype": "text/x-python",
   "name": "python",
   "nbconvert_exporter": "python",
   "pygments_lexer": "ipython3",
   "version": "3.7.3"
  }
 },
 "nbformat": 4,
 "nbformat_minor": 2
}
